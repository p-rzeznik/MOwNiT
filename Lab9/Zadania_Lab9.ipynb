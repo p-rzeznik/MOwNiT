{
 "cells": [
  {
   "cell_type": "markdown",
   "id": "frozen-spencer",
   "metadata": {},
   "source": [
    "## Piotr Rzeźnik\n"
   ]
  },
  {
   "cell_type": "markdown",
   "id": "pleasant-venue",
   "metadata": {},
   "source": [
    "### Zadania"
   ]
  },
  {
   "cell_type": "markdown",
   "id": "designing-vietnam",
   "metadata": {},
   "source": [
    "\n",
    "Zadanie 1 (1pkt)\n",
    "Ustal losowe (referencyjne) x rozmiaru 1000 oraz losowe A rozmiaru 1000x1000, policz b=A*x. Nastepnie rozwiąż równanie Ax=b trzema metodami:\n",
    "\n",
    " - inv()\n",
    " - \\\n",
    " - factorize()\n",
    " \n",
    "Porównaj jakość wyniku (zmierzoną jako długość różnicy wektorów wyniku oraz referencyjnego x) oraz czas wykonania (@time). UWAGA: pierwsze wykonanie funkcji w Julii zawiera czas kompilacji tej funkcji, dlatego czas mierzymy od drugiego wywołania !\n",
    "\n"
   ]
  },
  {
   "cell_type": "code",
   "execution_count": 2,
   "id": "bulgarian-contractor",
   "metadata": {},
   "outputs": [],
   "source": [
    "using(LinearAlgebra)\n"
   ]
  },
  {
   "cell_type": "code",
   "execution_count": 34,
   "id": "upper-endorsement",
   "metadata": {},
   "outputs": [
    {
     "data": {
      "text/plain": [
       "f (generic function with 1 method)"
      ]
     },
     "execution_count": 34,
     "metadata": {},
     "output_type": "execute_result"
    }
   ],
   "source": [
    "function f(A, b)\n",
    "    Af=factorize(A)\n",
    "    return Af\\b\n",
    "    \n",
    "end"
   ]
  },
  {
   "cell_type": "code",
   "execution_count": 40,
   "id": "characteristic-broadcasting",
   "metadata": {},
   "outputs": [
    {
     "name": "stdout",
     "output_type": "stream",
     "text": [
      "0.03471080.03556630.03443730.03873990.03527930.0346290.03486010.04022350.03424820.0347112"
     ]
    }
   ],
   "source": [
    "using DataFrames\n",
    "using Statistics\n",
    "df = DataFrame(label=[], time=[], avg_delta=[])\n",
    "\n",
    "M = 10\n",
    "\n",
    "x = rand(1000)\n",
    "A = rand(1000, 1000)\n",
    "b = A*x\n",
    "\n",
    "\n",
    "x1 = inv(A)*b\n",
    "\n",
    "x1 = A\\b\n",
    "\n",
    "x1 =  f(A, b)\n",
    "\n",
    "\n",
    "\n",
    "for k=1:M\n",
    "    \n",
    "    x = rand(1000)\n",
    "    A = rand(1000, 1000)\n",
    "    b = A*x\n",
    "    \n",
    "    t = @elapsed begin\n",
    "        x1 = inv(A)*b\n",
    "    end\n",
    "    print(t)\n",
    "    avg = mean(x-x1)\n",
    "    insert!.(eachcol(df), 1,[\"inv\", t, avg])\n",
    "    \n",
    "    t = @elapsed begin \n",
    "        x1 = A\\b\n",
    "    end\n",
    "    avg = mean(x-x1)\n",
    "    \n",
    "    insert!.(eachcol(df), 1, [\"\\\\\", t, avg])\n",
    "    \n",
    "    t = @elapsed begin \n",
    "        x1 =  f(A, b)\n",
    "    end\n",
    "    avg = mean(x-x1)\n",
    "    \n",
    "    insert!.(eachcol(df), 1,[\"factorize\", t, avg])\n",
    "    \n",
    "end"
   ]
  },
  {
   "cell_type": "code",
   "execution_count": 41,
   "id": "transsexual-black",
   "metadata": {},
   "outputs": [
    {
     "data": {
      "text/html": [
       "<table class=\"data-frame\"><thead><tr><th></th><th>label</th><th>time</th><th>avg_delta</th></tr><tr><th></th><th>Any</th><th>Any</th><th>Any</th></tr></thead><tbody><p>30 rows × 3 columns</p><tr><th>1</th><td>factorize</td><td>0.0140046</td><td>5.46146e-16</td></tr><tr><th>2</th><td>\\\\</td><td>0.0128283</td><td>5.46146e-16</td></tr><tr><th>3</th><td>inv</td><td>0.0347112</td><td>7.01919e-14</td></tr><tr><th>4</th><td>factorize</td><td>0.0129501</td><td>-9.62875e-17</td></tr><tr><th>5</th><td>\\\\</td><td>0.0143427</td><td>-9.62875e-17</td></tr><tr><th>6</th><td>inv</td><td>0.0342482</td><td>-1.39283e-13</td></tr><tr><th>7</th><td>factorize</td><td>0.0155366</td><td>-2.49222e-15</td></tr><tr><th>8</th><td>\\\\</td><td>0.0143966</td><td>-2.49222e-15</td></tr><tr><th>9</th><td>inv</td><td>0.0402235</td><td>8.95808e-14</td></tr><tr><th>10</th><td>factorize</td><td>0.0130756</td><td>1.32279e-16</td></tr><tr><th>11</th><td>\\\\</td><td>0.0148778</td><td>1.32279e-16</td></tr><tr><th>12</th><td>inv</td><td>0.0348601</td><td>-3.25051e-15</td></tr><tr><th>13</th><td>factorize</td><td>0.0174915</td><td>-1.53727e-16</td></tr><tr><th>14</th><td>\\\\</td><td>0.0130425</td><td>-1.53727e-16</td></tr><tr><th>15</th><td>inv</td><td>0.034629</td><td>4.42002e-15</td></tr><tr><th>16</th><td>factorize</td><td>0.0129524</td><td>2.52851e-16</td></tr><tr><th>17</th><td>\\\\</td><td>0.014457</td><td>2.52851e-16</td></tr><tr><th>18</th><td>inv</td><td>0.0352793</td><td>2.75646e-15</td></tr><tr><th>19</th><td>factorize</td><td>0.0164995</td><td>-3.03257e-16</td></tr><tr><th>20</th><td>\\\\</td><td>0.0144998</td><td>-3.03257e-16</td></tr><tr><th>21</th><td>inv</td><td>0.0387399</td><td>1.81311e-14</td></tr><tr><th>22</th><td>factorize</td><td>0.0147344</td><td>2.12163e-16</td></tr><tr><th>23</th><td>\\\\</td><td>0.0153756</td><td>2.12163e-16</td></tr><tr><th>24</th><td>inv</td><td>0.0344373</td><td>-5.05596e-16</td></tr><tr><th>25</th><td>factorize</td><td>0.0198915</td><td>-1.39132e-16</td></tr><tr><th>26</th><td>\\\\</td><td>0.0128105</td><td>-1.39132e-16</td></tr><tr><th>27</th><td>inv</td><td>0.0355663</td><td>1.15721e-13</td></tr><tr><th>28</th><td>factorize</td><td>0.0128005</td><td>-8.11213e-17</td></tr><tr><th>29</th><td>\\\\</td><td>0.0128104</td><td>-8.11213e-17</td></tr><tr><th>30</th><td>inv</td><td>0.0347108</td><td>6.79501e-15</td></tr></tbody></table>"
      ],
      "text/latex": [
       "\\begin{tabular}{r|ccc}\n",
       "\t& label & time & avg\\_delta\\\\\n",
       "\t\\hline\n",
       "\t& Any & Any & Any\\\\\n",
       "\t\\hline\n",
       "\t1 & factorize & 0.0140046 & 5.46146e-16 \\\\\n",
       "\t2 & \\textbackslash{}\\textbackslash{} & 0.0128283 & 5.46146e-16 \\\\\n",
       "\t3 & inv & 0.0347112 & 7.01919e-14 \\\\\n",
       "\t4 & factorize & 0.0129501 & -9.62875e-17 \\\\\n",
       "\t5 & \\textbackslash{}\\textbackslash{} & 0.0143427 & -9.62875e-17 \\\\\n",
       "\t6 & inv & 0.0342482 & -1.39283e-13 \\\\\n",
       "\t7 & factorize & 0.0155366 & -2.49222e-15 \\\\\n",
       "\t8 & \\textbackslash{}\\textbackslash{} & 0.0143966 & -2.49222e-15 \\\\\n",
       "\t9 & inv & 0.0402235 & 8.95808e-14 \\\\\n",
       "\t10 & factorize & 0.0130756 & 1.32279e-16 \\\\\n",
       "\t11 & \\textbackslash{}\\textbackslash{} & 0.0148778 & 1.32279e-16 \\\\\n",
       "\t12 & inv & 0.0348601 & -3.25051e-15 \\\\\n",
       "\t13 & factorize & 0.0174915 & -1.53727e-16 \\\\\n",
       "\t14 & \\textbackslash{}\\textbackslash{} & 0.0130425 & -1.53727e-16 \\\\\n",
       "\t15 & inv & 0.034629 & 4.42002e-15 \\\\\n",
       "\t16 & factorize & 0.0129524 & 2.52851e-16 \\\\\n",
       "\t17 & \\textbackslash{}\\textbackslash{} & 0.014457 & 2.52851e-16 \\\\\n",
       "\t18 & inv & 0.0352793 & 2.75646e-15 \\\\\n",
       "\t19 & factorize & 0.0164995 & -3.03257e-16 \\\\\n",
       "\t20 & \\textbackslash{}\\textbackslash{} & 0.0144998 & -3.03257e-16 \\\\\n",
       "\t21 & inv & 0.0387399 & 1.81311e-14 \\\\\n",
       "\t22 & factorize & 0.0147344 & 2.12163e-16 \\\\\n",
       "\t23 & \\textbackslash{}\\textbackslash{} & 0.0153756 & 2.12163e-16 \\\\\n",
       "\t24 & inv & 0.0344373 & -5.05596e-16 \\\\\n",
       "\t25 & factorize & 0.0198915 & -1.39132e-16 \\\\\n",
       "\t26 & \\textbackslash{}\\textbackslash{} & 0.0128105 & -1.39132e-16 \\\\\n",
       "\t27 & inv & 0.0355663 & 1.15721e-13 \\\\\n",
       "\t28 & factorize & 0.0128005 & -8.11213e-17 \\\\\n",
       "\t29 & \\textbackslash{}\\textbackslash{} & 0.0128104 & -8.11213e-17 \\\\\n",
       "\t30 & inv & 0.0347108 & 6.79501e-15 \\\\\n",
       "\\end{tabular}\n"
      ],
      "text/plain": [
       "\u001b[1m30×3 DataFrame\u001b[0m\n",
       "\u001b[1m Row \u001b[0m│\u001b[1m label     \u001b[0m\u001b[1m time      \u001b[0m\u001b[1m avg_delta    \u001b[0m\n",
       "\u001b[1m     \u001b[0m│\u001b[90m Any       \u001b[0m\u001b[90m Any       \u001b[0m\u001b[90m Any          \u001b[0m\n",
       "─────┼────────────────────────────────────\n",
       "   1 │ factorize  0.0140046  5.46146e-16\n",
       "   2 │ \\\\         0.0128283  5.46146e-16\n",
       "   3 │ inv        0.0347112  7.01919e-14\n",
       "   4 │ factorize  0.0129501  -9.62875e-17\n",
       "   5 │ \\\\         0.0143427  -9.62875e-17\n",
       "   6 │ inv        0.0342482  -1.39283e-13\n",
       "   7 │ factorize  0.0155366  -2.49222e-15\n",
       "   8 │ \\\\         0.0143966  -2.49222e-15\n",
       "   9 │ inv        0.0402235  8.95808e-14\n",
       "  10 │ factorize  0.0130756  1.32279e-16\n",
       "  11 │ \\\\         0.0148778  1.32279e-16\n",
       "  ⋮  │     ⋮          ⋮           ⋮\n",
       "  21 │ inv        0.0387399  1.81311e-14\n",
       "  22 │ factorize  0.0147344  2.12163e-16\n",
       "  23 │ \\\\         0.0153756  2.12163e-16\n",
       "  24 │ inv        0.0344373  -5.05596e-16\n",
       "  25 │ factorize  0.0198915  -1.39132e-16\n",
       "  26 │ \\\\         0.0128105  -1.39132e-16\n",
       "  27 │ inv        0.0355663  1.15721e-13\n",
       "  28 │ factorize  0.0128005  -8.11213e-17\n",
       "  29 │ \\\\         0.0128104  -8.11213e-17\n",
       "  30 │ inv        0.0347108  6.79501e-15\n",
       "\u001b[36m                            9 rows omitted\u001b[0m"
      ]
     },
     "execution_count": 41,
     "metadata": {},
     "output_type": "execute_result"
    }
   ],
   "source": [
    "df"
   ]
  },
  {
   "cell_type": "code",
   "execution_count": 44,
   "id": "altered-belle",
   "metadata": {},
   "outputs": [
    {
     "data": {
      "text/html": [
       "<table class=\"data-frame\"><thead><tr><th></th><th>label</th><th>time_mean</th></tr><tr><th></th><th>String</th><th>Float64</th></tr></thead><tbody><p>3 rows × 2 columns</p><tr><th>1</th><td>factorize</td><td>0.0149937</td></tr><tr><th>2</th><td>\\\\</td><td>0.0139441</td></tr><tr><th>3</th><td>inv</td><td>0.0357406</td></tr></tbody></table>"
      ],
      "text/latex": [
       "\\begin{tabular}{r|cc}\n",
       "\t& label & time\\_mean\\\\\n",
       "\t\\hline\n",
       "\t& String & Float64\\\\\n",
       "\t\\hline\n",
       "\t1 & factorize & 0.0149937 \\\\\n",
       "\t2 & \\textbackslash{}\\textbackslash{} & 0.0139441 \\\\\n",
       "\t3 & inv & 0.0357406 \\\\\n",
       "\\end{tabular}\n"
      ],
      "text/plain": [
       "\u001b[1m3×2 DataFrame\u001b[0m\n",
       "\u001b[1m Row \u001b[0m│\u001b[1m label     \u001b[0m\u001b[1m time_mean \u001b[0m\n",
       "\u001b[1m     \u001b[0m│\u001b[90m String    \u001b[0m\u001b[90m Float64   \u001b[0m\n",
       "─────┼──────────────────────\n",
       "   1 │ factorize  0.0149937\n",
       "   2 │ \\\\         0.0139441\n",
       "   3 │ inv        0.0357406"
      ]
     },
     "execution_count": 44,
     "metadata": {},
     "output_type": "execute_result"
    }
   ],
   "source": [
    "ndf = DataFrame()\n",
    "gdf1 = groupby(df, :label)\n",
    "for i in 1:3\n",
    "    row = combine(gdf1[i],\"label\", \"time\" => mean)\n",
    "    push!(ndf, row[1,:])\n",
    "\n",
    "end\n",
    "ndf"
   ]
  },
  {
   "cell_type": "markdown",
   "id": "dependent-custom",
   "metadata": {},
   "source": [
    "Zadanie 2 (1pkt)\n",
    "Policz współczynniki wielomianu aproksymującego dowolne dane z poprzednich laboratoriów tworząc wprost układ równań i rozwiązujac go (metoda z użyciem faktoryzacji QR zaprezentowana na tym laboratorium). Porównaj wyniki z tymi otrzymanymi poprzednio.\n",
    "\n"
   ]
  },
  {
   "cell_type": "code",
   "execution_count": null,
   "id": "terminal-impression",
   "metadata": {},
   "outputs": [],
   "source": []
  },
  {
   "cell_type": "markdown",
   "id": "organizational-darwin",
   "metadata": {},
   "source": [
    "Zadanie 3 (2 pkt)\n",
    "Znajdź i zaprezentuj działanie innego zastosowania wybranej faktoryzacji. Przykładowe (ale nie jedyne!) tematy:\n",
    "\n",
    "tworzenie pseudoinversji macierzy (http://buzzard.ups.edu/courses/2014spring/420projects/math420-UPS-spring-2014-macausland-pseudo-inverse-present.pdf).\n",
    "\n",
    "uzycie faktoryzacji QR do znajdowania wartości własnych (https://en.wikipedia.org/wiki/QR_algorithm)\n",
    "\n",
    "zastosowanie faktoryzacji SVD"
   ]
  },
  {
   "cell_type": "code",
   "execution_count": 91,
   "id": "scheduled-postcard",
   "metadata": {},
   "outputs": [
    {
     "data": {
      "text/plain": [
       "5×4 Array{Float64,2}:\n",
       " 0.566689   0.803749  0.55968   0.161464\n",
       " 0.20155    0.677637  0.161888  0.321054\n",
       " 0.668205   0.983361  0.362124  0.412651\n",
       " 0.0910576  0.525263  0.453084  0.574296\n",
       " 0.618703   0.225025  0.328385  0.167764"
      ]
     },
     "execution_count": 91,
     "metadata": {},
     "output_type": "execute_result"
    }
   ],
   "source": [
    "A=rand(5,4)"
   ]
  },
  {
   "cell_type": "code",
   "execution_count": 92,
   "id": "working-batch",
   "metadata": {},
   "outputs": [
    {
     "data": {
      "text/plain": [
       "4"
      ]
     },
     "execution_count": 92,
     "metadata": {},
     "output_type": "execute_result"
    }
   ],
   "source": [
    "rank(A)"
   ]
  },
  {
   "cell_type": "code",
   "execution_count": 93,
   "id": "relevant-tracy",
   "metadata": {},
   "outputs": [
    {
     "data": {
      "text/plain": [
       "LinearAlgebra.QRCompactWY{Float64,Array{Float64,2}}\n",
       "Q factor:\n",
       "5×5 LinearAlgebra.QRCompactWYQ{Float64,Array{Float64,2}}:\n",
       " -0.517456   -0.151885   0.347094   0.765617   0.0502731\n",
       " -0.18404    -0.529492  -0.350223  -0.119302   0.740863\n",
       " -0.610153   -0.222334  -0.46547   -0.208429  -0.564072\n",
       " -0.0831466  -0.505145   0.708765  -0.469699  -0.122266\n",
       " -0.564951    0.626071   0.194575  -0.368155   0.339806\n",
       "R factor:\n",
       "4×4 Array{Float64,2}:\n",
       " -1.09514  -1.31142   -0.763548  -0.536946\n",
       "  0.0      -0.823967  -0.274518  -0.471337\n",
       "  0.0       0.0        0.354032   0.19121\n",
       "  0.0       0.0        0.0       -0.3322"
      ]
     },
     "execution_count": 93,
     "metadata": {},
     "output_type": "execute_result"
    }
   ],
   "source": [
    "F = qr(A)"
   ]
  },
  {
   "cell_type": "code",
   "execution_count": 94,
   "id": "cathedral-statistics",
   "metadata": {},
   "outputs": [],
   "source": [
    "Q = F.Q\n",
    "R = F.R;"
   ]
  },
  {
   "cell_type": "code",
   "execution_count": 95,
   "id": "dynamic-comparison",
   "metadata": {},
   "outputs": [
    {
     "data": {
      "text/plain": [
       "4×4 Array{Float64,2}:\n",
       " -0.913121   1.45332  -0.842437  -1.071\n",
       "  0.0       -1.21364  -0.941063   1.18029\n",
       "  0.0        0.0       2.8246     1.6258\n",
       "  0.0        0.0       0.0       -3.01023"
      ]
     },
     "execution_count": 95,
     "metadata": {},
     "output_type": "execute_result"
    }
   ],
   "source": [
    "R1 = inv(R)"
   ]
  },
  {
   "cell_type": "code",
   "execution_count": 96,
   "id": "under-desperate",
   "metadata": {},
   "outputs": [
    {
     "data": {
      "text/plain": [
       "4×5 Array{Float64,2}:\n",
       "  0.808097   0.0974814  -1.19288   -0.193849   1.63694\n",
       "  0.699413   0.255625    1.69963   -0.213447  -0.512625\n",
       " -1.85862   -1.44927    -0.162455  -1.35237   -1.79206\n",
       "  0.25029    1.5206     -2.13355    1.4139     0.36805"
      ]
     },
     "execution_count": 96,
     "metadata": {},
     "output_type": "execute_result"
    }
   ],
   "source": [
    "A1 = [R1 zeros(4,1)] * Q"
   ]
  },
  {
   "cell_type": "code",
   "execution_count": 97,
   "id": "satellite-beijing",
   "metadata": {},
   "outputs": [
    {
     "data": {
      "text/plain": [
       "4×4 Array{Float64,2}:\n",
       "  0.675629  -0.190936    0.485804  -0.167174\n",
       "  1.24697    2.17925     0.783259   0.687772\n",
       " -2.68581   -3.7493     -2.5349    -1.90973\n",
       " -0.620873  -0.0409674   0.375121   0.521943"
      ]
     },
     "execution_count": 97,
     "metadata": {},
     "output_type": "execute_result"
    }
   ],
   "source": [
    "A1*A"
   ]
  },
  {
   "cell_type": "code",
   "execution_count": null,
   "id": "grave-ensemble",
   "metadata": {},
   "outputs": [],
   "source": []
  },
  {
   "cell_type": "code",
   "execution_count": null,
   "id": "universal-spokesman",
   "metadata": {},
   "outputs": [],
   "source": []
  }
 ],
 "metadata": {
  "kernelspec": {
   "display_name": "Julia 1.5.4",
   "language": "julia",
   "name": "julia-1.5"
  },
  "language_info": {
   "file_extension": ".jl",
   "mimetype": "application/julia",
   "name": "julia",
   "version": "1.5.4"
  }
 },
 "nbformat": 4,
 "nbformat_minor": 5
}
